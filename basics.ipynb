{
 "cells": [
  {
   "cell_type": "code",
   "execution_count": 1,
   "id": "8c811c92-d0eb-455d-8271-61588fd93e12",
   "metadata": {},
   "outputs": [],
   "source": [
    "from pyspark.sql import SparkSession\n",
    "spark = SparkSession.builder.appName(\"basics\").getOrCreate()"
   ]
  },
  {
   "cell_type": "code",
   "execution_count": 2,
   "id": "ab5ed511-9c50-40c3-a349-d81ef6dbef11",
   "metadata": {},
   "outputs": [],
   "source": [
    "from pyspark.sql.types import StructType, StructField, StringType, IntegerType"
   ]
  },
  {
   "cell_type": "code",
   "execution_count": 6,
   "id": "d4afae43-6a96-497f-8517-bd95b92e2459",
   "metadata": {},
   "outputs": [],
   "source": [
    "data_schema = StructType(fields= [\n",
    "    StructField('age', IntegerType()),\n",
    "    StructField('name', StringType())\n",
    "])"
   ]
  },
  {
   "cell_type": "code",
   "execution_count": 8,
   "id": "88ff11f5-ee11-496a-9e10-08fc0234afa2",
   "metadata": {},
   "outputs": [],
   "source": [
    "df = spark.read.json(\"data.json\",schema=data_schema, multiLine=True)"
   ]
  },
  {
   "cell_type": "code",
   "execution_count": 12,
   "id": "2a496015-b226-414e-8da5-e430732bb390",
   "metadata": {},
   "outputs": [
    {
     "name": "stdout",
     "output_type": "stream",
     "text": [
      "root\n",
      " |-- age: integer (nullable = true)\n",
      " |-- name: string (nullable = true)\n",
      "\n"
     ]
    }
   ],
   "source": [
    "df.printSchema()"
   ]
  },
  {
   "cell_type": "code",
   "execution_count": 13,
   "id": "4d00eaf7-8036-4a12-949c-d6799c827901",
   "metadata": {},
   "outputs": [
    {
     "name": "stdout",
     "output_type": "stream",
     "text": [
      "+-------+-----------------+-------+\n",
      "|summary|              age|   name|\n",
      "+-------+-----------------+-------+\n",
      "|  count|                2|      2|\n",
      "|   mean|             29.5|   NULL|\n",
      "| stddev|6.363961030678928|   NULL|\n",
      "|    min|               25|  enosh|\n",
      "|    max|               34|matanel|\n",
      "+-------+-----------------+-------+\n",
      "\n"
     ]
    }
   ],
   "source": [
    "df.describe().show()"
   ]
  },
  {
   "cell_type": "code",
   "execution_count": 14,
   "id": "0e47de1f-5479-4c9b-9052-59e2748cbfb0",
   "metadata": {},
   "outputs": [
    {
     "data": {
      "text/plain": [
       "Column<'age'>"
      ]
     },
     "execution_count": 14,
     "metadata": {},
     "output_type": "execute_result"
    }
   ],
   "source": [
    "df['age']"
   ]
  },
  {
   "cell_type": "code",
   "execution_count": 17,
   "id": "fa623ef1-b907-41eb-9c25-de4c45670ace",
   "metadata": {},
   "outputs": [
    {
     "name": "stdout",
     "output_type": "stream",
     "text": [
      "+---+\n",
      "|age|\n",
      "+---+\n",
      "| 34|\n",
      "| 25|\n",
      "+---+\n",
      "\n"
     ]
    }
   ],
   "source": [
    "df.select('age').show()"
   ]
  },
  {
   "cell_type": "code",
   "execution_count": 21,
   "id": "d3d2b348-8233-4ca3-b997-d0f9a7087107",
   "metadata": {},
   "outputs": [
    {
     "name": "stdout",
     "output_type": "stream",
     "text": [
      "+-------+---+\n",
      "|   name|age|\n",
      "+-------+---+\n",
      "|  enosh| 34|\n",
      "|matanel| 25|\n",
      "+-------+---+\n",
      "\n"
     ]
    }
   ],
   "source": [
    "df.select(['name', 'age']).show()"
   ]
  },
  {
   "cell_type": "code",
   "execution_count": 22,
   "id": "62ec76fc-8cb6-4d8c-9675-0d063186bbdf",
   "metadata": {},
   "outputs": [
    {
     "data": {
      "text/plain": [
       "[Row(age=34, name='enosh'), Row(age=25, name='matanel')]"
      ]
     },
     "execution_count": 22,
     "metadata": {},
     "output_type": "execute_result"
    }
   ],
   "source": [
    "df.head(2)"
   ]
  },
  {
   "cell_type": "code",
   "execution_count": 23,
   "id": "996cde65-c18e-44c6-9a88-f0f77d8a1bec",
   "metadata": {},
   "outputs": [
    {
     "data": {
      "text/plain": [
       "Row(age=34, name='enosh')"
      ]
     },
     "execution_count": 23,
     "metadata": {},
     "output_type": "execute_result"
    }
   ],
   "source": [
    "df.head(2)[0]"
   ]
  },
  {
   "cell_type": "code",
   "execution_count": 24,
   "id": "93394943-b691-4931-a7ec-246946c3a80d",
   "metadata": {},
   "outputs": [
    {
     "data": {
      "text/plain": [
       "Column<'age'>"
      ]
     },
     "execution_count": 24,
     "metadata": {},
     "output_type": "execute_result"
    }
   ],
   "source": [
    "df['age']"
   ]
  },
  {
   "cell_type": "code",
   "execution_count": 25,
   "id": "3f7ed01b-f82f-4a46-84c9-97ccbc60e885",
   "metadata": {},
   "outputs": [
    {
     "name": "stdout",
     "output_type": "stream",
     "text": [
      "+---+-------+-------+\n",
      "|age|   name|new_age|\n",
      "+---+-------+-------+\n",
      "| 34|  enosh|     34|\n",
      "| 25|matanel|     25|\n",
      "+---+-------+-------+\n",
      "\n"
     ]
    }
   ],
   "source": [
    "df.withColumn('new_age', df['age']).show()"
   ]
  },
  {
   "cell_type": "code",
   "execution_count": 26,
   "id": "d691c181-0df2-445a-88e4-9b6d4f567945",
   "metadata": {},
   "outputs": [
    {
     "name": "stdout",
     "output_type": "stream",
     "text": [
      "+---+-------+\n",
      "|age|   name|\n",
      "+---+-------+\n",
      "| 34|  enosh|\n",
      "| 25|matanel|\n",
      "+---+-------+\n",
      "\n"
     ]
    }
   ],
   "source": [
    "df.show()"
   ]
  },
  {
   "cell_type": "code",
   "execution_count": 27,
   "id": "762cc311-d439-416f-a4a2-2d64f84e80e7",
   "metadata": {},
   "outputs": [
    {
     "name": "stdout",
     "output_type": "stream",
     "text": [
      "+---+-------+----------+\n",
      "|age|   name|double_age|\n",
      "+---+-------+----------+\n",
      "| 34|  enosh|        68|\n",
      "| 25|matanel|        50|\n",
      "+---+-------+----------+\n",
      "\n"
     ]
    }
   ],
   "source": [
    "df.withColumn('double_age', df['age'] * 2).show()"
   ]
  },
  {
   "cell_type": "code",
   "execution_count": 28,
   "id": "a5621212-478d-4453-9ff3-62395502d422",
   "metadata": {},
   "outputs": [
    {
     "name": "stdout",
     "output_type": "stream",
     "text": [
      "+---+-------+\n",
      "|age| nameos|\n",
      "+---+-------+\n",
      "| 34|  enosh|\n",
      "| 25|matanel|\n",
      "+---+-------+\n",
      "\n"
     ]
    }
   ],
   "source": [
    "df.withColumnRenamed('name', 'nameos').show()"
   ]
  },
  {
   "cell_type": "code",
   "execution_count": 29,
   "id": "4b053705-75e9-4a4b-8b6f-f95b3c0b297a",
   "metadata": {},
   "outputs": [],
   "source": [
    "df.createOrReplaceTempView('people')"
   ]
  },
  {
   "cell_type": "code",
   "execution_count": 31,
   "id": "049d0a19-cf41-4688-bce8-be2f6b8c4e96",
   "metadata": {},
   "outputs": [
    {
     "name": "stdout",
     "output_type": "stream",
     "text": [
      "+---+-------+\n",
      "|age|   name|\n",
      "+---+-------+\n",
      "| 34|  enosh|\n",
      "| 25|matanel|\n",
      "+---+-------+\n",
      "\n"
     ]
    }
   ],
   "source": [
    "spark.sql(\"select * from people\").show()"
   ]
  },
  {
   "cell_type": "code",
   "execution_count": null,
   "id": "a6d407b7-8623-4586-8302-462f0149de30",
   "metadata": {},
   "outputs": [],
   "source": []
  }
 ],
 "metadata": {
  "kernelspec": {
   "display_name": "Python 3 (ipykernel)",
   "language": "python",
   "name": "python3"
  },
  "language_info": {
   "codemirror_mode": {
    "name": "ipython",
    "version": 3
   },
   "file_extension": ".py",
   "mimetype": "text/x-python",
   "name": "python",
   "nbconvert_exporter": "python",
   "pygments_lexer": "ipython3",
   "version": "3.11.6"
  }
 },
 "nbformat": 4,
 "nbformat_minor": 5
}
