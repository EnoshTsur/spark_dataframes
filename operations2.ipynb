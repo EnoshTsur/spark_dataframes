{
 "cells": [
  {
   "cell_type": "code",
   "execution_count": 2,
   "id": "4b4de5cf-ed80-438c-b849-55683a68b90d",
   "metadata": {},
   "outputs": [],
   "source": [
    "from pyspark.sql import SparkSession\n",
    "spark = SparkSession.builder.appName(\"basics\").getOrCreate()"
   ]
  },
  {
   "cell_type": "code",
   "execution_count": 3,
   "id": "9292edf3-499c-43ea-afef-387dc13e9329",
   "metadata": {},
   "outputs": [],
   "source": [
    "df = spark.read.csv(\"students.csv\", inferSchema=True, header=True)"
   ]
  },
  {
   "cell_type": "code",
   "execution_count": 4,
   "id": "a4616b33-0ced-4757-9087-48493b166c42",
   "metadata": {},
   "outputs": [
    {
     "name": "stdout",
     "output_type": "stream",
     "text": [
      "+-------------+---+-----------------+------------------+----------+---------------+---+\n",
      "|         Name|Age|Favorite_Language|Favorite_Framework|Student_ID|Enrollment_Year|GPA|\n",
      "+-------------+---+-----------------+------------------+----------+---------------+---+\n",
      "|David HaMagid| 22|           Python|            Django|     ST001|           2021|3.8|\n",
      "| Reuven Cohen| 21|       JavaScript|             React|     ST002|           2021|3.9|\n",
      "+-------------+---+-----------------+------------------+----------+---------------+---+\n",
      "only showing top 2 rows\n",
      "\n"
     ]
    }
   ],
   "source": [
    "df.show(2)"
   ]
  },
  {
   "cell_type": "code",
   "execution_count": 5,
   "id": "6b5cf5e7-5ece-4319-a92d-3db990afd654",
   "metadata": {},
   "outputs": [
    {
     "data": {
      "text/plain": [
       "25"
      ]
     },
     "execution_count": 5,
     "metadata": {},
     "output_type": "execute_result"
    }
   ],
   "source": [
    "df.count()"
   ]
  },
  {
   "cell_type": "code",
   "execution_count": 7,
   "id": "a2f3d2b0-ac3c-4746-ac2b-0f8b2cad3adf",
   "metadata": {},
   "outputs": [
    {
     "name": "stdout",
     "output_type": "stream",
     "text": [
      "+----------------+---+-----------------+------------------+----------+---------------+---+\n",
      "|            Name|Age|Favorite_Language|Favorite_Framework|Student_ID|Enrollment_Year|GPA|\n",
      "+----------------+---+-----------------+------------------+----------+---------------+---+\n",
      "|Eliyahu Erlanger| 21|              PHP|           Laravel|     ST013|           2022|3.9|\n",
      "|  Eliezer Shamul| 23|       JavaScript|           Next.js|     ST014|           2021|3.8|\n",
      "|   Elkana Kalman| 20|           Python|           PyTorch|     ST015|           2022|3.6|\n",
      "+----------------+---+-----------------+------------------+----------+---------------+---+\n",
      "\n"
     ]
    }
   ],
   "source": [
    "df.filter(df[\"Name\"].startswith(\"E\")).show()"
   ]
  },
  {
   "cell_type": "code",
   "execution_count": 8,
   "id": "44fb3875-e67b-4778-aeef-52225126ce6b",
   "metadata": {},
   "outputs": [
    {
     "name": "stdout",
     "output_type": "stream",
     "text": [
      "+----------------+---+-----------------+------------------+----------+---------------+---+\n",
      "|            Name|Age|Favorite_Language|Favorite_Framework|Student_ID|Enrollment_Year|GPA|\n",
      "+----------------+---+-----------------+------------------+----------+---------------+---+\n",
      "|Benjamin Naftali| 19|       JavaScript|            Vue.js|     ST006|           2023|3.5|\n",
      "|   Shlomo Benati| 19|            Swift|           SwiftUI|     ST017|           2023|3.5|\n",
      "|   Yair Weissman| 20|           Python|             Flask|     ST004|           2022|3.6|\n",
      "|  Mordechai Oren| 20|           Python|           FastAPI|     ST010|           2022|3.6|\n",
      "|   Elkana Kalman| 20|           Python|           PyTorch|     ST015|           2022|3.6|\n",
      "+----------------+---+-----------------+------------------+----------+---------------+---+\n",
      "only showing top 5 rows\n",
      "\n"
     ]
    }
   ],
   "source": [
    "df.orderBy(\"Age\").show(5)"
   ]
  },
  {
   "cell_type": "code",
   "execution_count": 11,
   "id": "52f58410-1483-49ec-a4f6-9c6203e13445",
   "metadata": {},
   "outputs": [
    {
     "name": "stdout",
     "output_type": "stream",
     "text": [
      "+--------------------+---+-----------------+------------------+----------+---------------+---+\n",
      "|                Name|Age|Favorite_Language|Favorite_Framework|Student_ID|Enrollment_Year|GPA|\n",
      "+--------------------+---+-----------------+------------------+----------+---------------+---+\n",
      "|Menachem Mendel A...| 24|               C#|         .NET Core|     ST005|           2020|3.9|\n",
      "|   Pinchas Waxberger| 24|             Java|         Hibernate|     ST011|           2020|3.8|\n",
      "|  Jonathan Rosenthal| 24|              C++|                Qt|     ST016|           2020|3.7|\n",
      "|Menachem Mendel B...| 24|               Go|              Echo|     ST022|           2020|3.8|\n",
      "|         Yehuda Zeev| 23|             Java|       Spring Boot|     ST003|           2020|3.7|\n",
      "+--------------------+---+-----------------+------------------+----------+---------------+---+\n",
      "only showing top 5 rows\n",
      "\n"
     ]
    }
   ],
   "source": [
    "df.orderBy(df[\"Age\"].desc()).show(5)"
   ]
  },
  {
   "cell_type": "code",
   "execution_count": 12,
   "id": "ff0d6436-79eb-4408-bed0-a12f892d241b",
   "metadata": {},
   "outputs": [
    {
     "name": "stdout",
     "output_type": "stream",
     "text": [
      "+-------+\n",
      "|age_avg|\n",
      "+-------+\n",
      "|  21.76|\n",
      "+-------+\n",
      "\n"
     ]
    }
   ],
   "source": [
    "df.selectExpr(\"avg(Age) as age_avg\").show()"
   ]
  },
  {
   "cell_type": "code",
   "execution_count": 13,
   "id": "f7ddecfa-55ea-4a51-b3b1-b3d5bc25bbe9",
   "metadata": {},
   "outputs": [
    {
     "name": "stdout",
     "output_type": "stream",
     "text": [
      "+-------+\n",
      "|age_max|\n",
      "+-------+\n",
      "|     24|\n",
      "+-------+\n",
      "\n"
     ]
    }
   ],
   "source": [
    "df.selectExpr(\"max(Age) as age_max\").show()"
   ]
  },
  {
   "cell_type": "code",
   "execution_count": 14,
   "id": "bbf8aca0-8a77-45d8-96f5-77ba745fd90e",
   "metadata": {},
   "outputs": [
    {
     "name": "stdout",
     "output_type": "stream",
     "text": [
      "+-------+\n",
      "|age_min|\n",
      "+-------+\n",
      "|     19|\n",
      "+-------+\n",
      "\n"
     ]
    }
   ],
   "source": [
    "df.selectExpr(\"min(Age) as age_min\").show()"
   ]
  },
  {
   "cell_type": "code",
   "execution_count": 15,
   "id": "767b42d4-aa68-49aa-84d8-123cf1a79603",
   "metadata": {},
   "outputs": [
    {
     "name": "stdout",
     "output_type": "stream",
     "text": [
      "+---+-----+\n",
      "|Age|count|\n",
      "+---+-----+\n",
      "| 22|    5|\n",
      "| 20|    4|\n",
      "| 19|    2|\n",
      "| 23|    5|\n",
      "| 24|    4|\n",
      "| 21|    5|\n",
      "+---+-----+\n",
      "\n"
     ]
    }
   ],
   "source": [
    "df.groupby(\"Age\").count().show()"
   ]
  },
  {
   "cell_type": "code",
   "execution_count": 19,
   "id": "eac3b474-b828-49ad-950e-1e0fd6531df9",
   "metadata": {},
   "outputs": [
    {
     "name": "stdout",
     "output_type": "stream",
     "text": [
      "+---+--------+\n",
      "|Age|avg(Age)|\n",
      "+---+--------+\n",
      "| 22|    22.0|\n",
      "| 20|    20.0|\n",
      "| 19|    19.0|\n",
      "| 23|    23.0|\n",
      "| 24|    24.0|\n",
      "| 21|    21.0|\n",
      "+---+--------+\n",
      "\n"
     ]
    }
   ],
   "source": [
    "df.groupby(\"Age\").mean(\"Age\").show()"
   ]
  },
  {
   "cell_type": "code",
   "execution_count": 23,
   "id": "9e63d0e2-9e2c-4b84-8681-9f5d80c8057f",
   "metadata": {},
   "outputs": [
    {
     "name": "stdout",
     "output_type": "stream",
     "text": [
      "+-----------------+---+-----------------+------------------+----------+---------------+---+\n",
      "|             Name|Age|Favorite_Language|Favorite_Framework|Student_ID|Enrollment_Year|GPA|\n",
      "+-----------------+---+-----------------+------------------+----------+---------------+---+\n",
      "|    Yair Weissman| 20|           Python|             Flask|     ST004|           2022|3.6|\n",
      "| Benjamin Naftali| 19|       JavaScript|            Vue.js|     ST006|           2023|3.5|\n",
      "|  Yeshayahu Stern| 21|               Go|               Gin|     ST008|           2022|3.7|\n",
      "|   Mordechai Oren| 20|           Python|           FastAPI|     ST010|           2022|3.6|\n",
      "| Eliyahu Erlanger| 21|              PHP|           Laravel|     ST013|           2022|3.9|\n",
      "|    Elkana Kalman| 20|           Python|           PyTorch|     ST015|           2022|3.6|\n",
      "|    Shlomo Benati| 19|            Swift|           SwiftUI|     ST017|           2023|3.5|\n",
      "|  Mordechai Cohen| 21|       JavaScript|           Express|     ST019|           2022|3.7|\n",
      "|     Ariel Albert| 20|             Ruby|           Sinatra|     ST021|           2022|3.6|\n",
      "|Israel Vershaviak| 21|           Python|        TensorFlow|     ST024|           2022|3.9|\n",
      "+-----------------+---+-----------------+------------------+----------+---------------+---+\n",
      "\n"
     ]
    }
   ],
   "source": [
    "df.filter(~(df['Age'] > 22) & ~(df['Enrollment_Year'] == 2021)).show()"
   ]
  },
  {
   "cell_type": "code",
   "execution_count": 25,
   "id": "363def77-8683-4900-8795-60b65c071023",
   "metadata": {},
   "outputs": [
    {
     "data": {
      "text/plain": [
       "[Row(Name='Benjamin Naftali', Age=19, Favorite_Language='JavaScript', Favorite_Framework='Vue.js', Student_ID='ST006', Enrollment_Year=2023, GPA=3.5),\n",
       " Row(Name='Shlomo Benati', Age=19, Favorite_Language='Swift', Favorite_Framework='SwiftUI', Student_ID='ST017', Enrollment_Year=2023, GPA=3.5)]"
      ]
     },
     "execution_count": 25,
     "metadata": {},
     "output_type": "execute_result"
    }
   ],
   "source": [
    "res = df.filter(df['Age'] < 20).collect()\n",
    "res"
   ]
  },
  {
   "cell_type": "code",
   "execution_count": 26,
   "id": "b3884ad2-ac06-417c-a4fd-35548c26f6ca",
   "metadata": {},
   "outputs": [
    {
     "data": {
      "text/plain": [
       "Row(Name='Benjamin Naftali', Age=19, Favorite_Language='JavaScript', Favorite_Framework='Vue.js', Student_ID='ST006', Enrollment_Year=2023, GPA=3.5)"
      ]
     },
     "execution_count": 26,
     "metadata": {},
     "output_type": "execute_result"
    }
   ],
   "source": [
    "res[0]"
   ]
  },
  {
   "cell_type": "code",
   "execution_count": 27,
   "id": "feae8b18-8dd5-44d7-a5c9-bb2c24709be6",
   "metadata": {},
   "outputs": [
    {
     "data": {
      "text/plain": [
       "{'Name': 'Benjamin Naftali',\n",
       " 'Age': 19,\n",
       " 'Favorite_Language': 'JavaScript',\n",
       " 'Favorite_Framework': 'Vue.js',\n",
       " 'Student_ID': 'ST006',\n",
       " 'Enrollment_Year': 2023,\n",
       " 'GPA': 3.5}"
      ]
     },
     "execution_count": 27,
     "metadata": {},
     "output_type": "execute_result"
    }
   ],
   "source": [
    "res[0].asDict()"
   ]
  },
  {
   "cell_type": "code",
   "execution_count": 28,
   "id": "e7adf5b9-65ad-49aa-83c6-8396fe44902d",
   "metadata": {},
   "outputs": [
    {
     "data": {
      "text/plain": [
       "'Benjamin Naftali'"
      ]
     },
     "execution_count": 28,
     "metadata": {},
     "output_type": "execute_result"
    }
   ],
   "source": [
    "res[0].asDict()['Name']"
   ]
  },
  {
   "cell_type": "code",
   "execution_count": null,
   "id": "33acdcf4-8e53-41c4-9bdf-0b36a3057cfa",
   "metadata": {},
   "outputs": [],
   "source": []
  }
 ],
 "metadata": {
  "kernelspec": {
   "display_name": "Python 3 (ipykernel)",
   "language": "python",
   "name": "python3"
  },
  "language_info": {
   "codemirror_mode": {
    "name": "ipython",
    "version": 3
   },
   "file_extension": ".py",
   "mimetype": "text/x-python",
   "name": "python",
   "nbconvert_exporter": "python",
   "pygments_lexer": "ipython3",
   "version": "3.11.6"
  }
 },
 "nbformat": 4,
 "nbformat_minor": 5
}
