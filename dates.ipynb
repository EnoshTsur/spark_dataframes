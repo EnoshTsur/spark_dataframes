{
 "cells": [
  {
   "cell_type": "code",
   "execution_count": 1,
   "id": "2b7a8988-fdd2-4717-9efe-24ddecfe1764",
   "metadata": {},
   "outputs": [],
   "source": [
    "from pyspark.sql import SparkSession\n",
    "spark = SparkSession.builder.appName(\"dates\").getOrCreate()"
   ]
  },
  {
   "cell_type": "code",
   "execution_count": 2,
   "id": "b64d93fa-7f93-4eec-b52b-e6c848793de2",
   "metadata": {},
   "outputs": [],
   "source": [
    "df = spark.read.csv(\"HistoricalQuotes.csv\", inferSchema=True, header=True)"
   ]
  },
  {
   "cell_type": "code",
   "execution_count": 3,
   "id": "dc7aa6a1-1a7e-4692-b221-703faff8e4f6",
   "metadata": {},
   "outputs": [
    {
     "name": "stdout",
     "output_type": "stream",
     "text": [
      "+----------+-----------+----------+--------+--------+----------+\n",
      "|      Date| Close/Last|    Volume|    Open|    High|       Low|\n",
      "+----------+-----------+----------+--------+--------+----------+\n",
      "|02/28/2020|    $273.36|1.067212E8| $257.26| $278.41|   $256.37|\n",
      "|02/27/2020|    $273.52|8.015138E7|  $281.1|    $286|   $272.96|\n",
      "|02/26/2020|    $292.65|4.967843E7| $286.53| $297.88|    $286.5|\n",
      "|02/25/2020|    $288.08|5.766836E7| $300.95| $302.53|   $286.13|\n",
      "|02/24/2020|    $298.18|5.554883E7| $297.26| $304.18|   $289.23|\n",
      "|02/21/2020|    $313.05|3.242642E7| $318.62| $320.45|    $310.5|\n",
      "|02/20/2020|     $320.3|2.514149E7| $322.63| $324.65|   $318.21|\n",
      "|02/19/2020|    $323.62|2.349599E7|    $320| $324.57|      $320|\n",
      "|02/18/2020|       $319|3.819055E7| $315.36| $319.75|   $314.61|\n",
      "|02/14/2020|    $324.95|2.002845E7| $324.74| $325.98|   $322.85|\n",
      "|02/13/2020|    $324.87|2.368689E7| $324.19| $326.22|   $323.35|\n",
      "|02/12/2020|     $327.2|2.843257E7| $321.47| $327.22|   $321.47|\n",
      "|02/11/2020|    $319.61|2.358078E7|  $323.6|  $323.9|   $318.71|\n",
      "|02/10/2020|    $321.55|2.733722E7| $314.18| $321.55|   $313.85|\n",
      "|02/07/2020|    $320.03|2.942101E7| $322.37|  $323.4|      $318|\n",
      "|02/06/2020|    $325.21|2.635639E7| $322.57| $325.22| $320.2648|\n",
      "|02/05/2020|    $321.45|2.970672E7| $323.52| $324.76|   $318.95|\n",
      "|02/04/2020|    $318.85|3.415413E7| $315.31| $319.64| $313.6345|\n",
      "|02/03/2020|    $308.66| 4.34964E7|  $304.3| $313.49|   $302.22|\n",
      "|01/31/2020|    $309.51| 4.98971E7| $320.93| $322.68|   $308.29|\n",
      "+----------+-----------+----------+--------+--------+----------+\n",
      "only showing top 20 rows\n",
      "\n"
     ]
    }
   ],
   "source": [
    "df.show()"
   ]
  },
  {
   "cell_type": "code",
   "execution_count": 5,
   "id": "15e562a4-6b28-4936-a131-c4ffd246dc02",
   "metadata": {},
   "outputs": [
    {
     "data": {
      "text/plain": [
       "[Row(Date='02/28/2020',  Close/Last=' $273.36',  Volume=106721200.0,  Open=' $257.26',  High=' $278.41',  Low=' $256.37')]"
      ]
     },
     "execution_count": 5,
     "metadata": {},
     "output_type": "execute_result"
    }
   ],
   "source": [
    "df.head(1)"
   ]
  },
  {
   "cell_type": "code",
   "execution_count": 9,
   "id": "14960fe8-169e-4e6b-a494-7930e6bbab58",
   "metadata": {},
   "outputs": [],
   "source": [
    "from pyspark.sql.functions import to_date"
   ]
  },
  {
   "cell_type": "code",
   "execution_count": 7,
   "id": "9c9ef2e3-ed63-4ad7-b22e-f87ff4ecab7c",
   "metadata": {},
   "outputs": [],
   "source": [
    "df = df.withColumn(\"Date\",to_date(df[\"Date\"], \"MM/dd/yyyy\"))"
   ]
  },
  {
   "cell_type": "code",
   "execution_count": 10,
   "id": "406f79e2-99f7-40fa-9a35-ac4d1b034ff6",
   "metadata": {},
   "outputs": [
    {
     "data": {
      "text/plain": [
       "DataFrame[Date: date,  Close/Last: string,  Volume: double,  Open: string,  High: string,  Low: string]"
      ]
     },
     "execution_count": 10,
     "metadata": {},
     "output_type": "execute_result"
    }
   ],
   "source": [
    "df"
   ]
  },
  {
   "cell_type": "code",
   "execution_count": 12,
   "id": "6319f48c-fc6f-42d0-95fa-f0843a21d5e0",
   "metadata": {},
   "outputs": [],
   "source": [
    "from pyspark.sql.functions import (\n",
    "dayofmonth, dayofweek, dayofyear, hour, month\n",
    ")"
   ]
  },
  {
   "cell_type": "code",
   "execution_count": 13,
   "id": "e6d34147-779a-4337-851b-4518a442f87b",
   "metadata": {},
   "outputs": [
    {
     "name": "stdout",
     "output_type": "stream",
     "text": [
      "+----------------+\n",
      "|dayofmonth(Date)|\n",
      "+----------------+\n",
      "|              28|\n",
      "|              27|\n",
      "|              26|\n",
      "|              25|\n",
      "|              24|\n",
      "|              21|\n",
      "|              20|\n",
      "|              19|\n",
      "|              18|\n",
      "|              14|\n",
      "|              13|\n",
      "|              12|\n",
      "|              11|\n",
      "|              10|\n",
      "|               7|\n",
      "|               6|\n",
      "|               5|\n",
      "|               4|\n",
      "|               3|\n",
      "|              31|\n",
      "+----------------+\n",
      "only showing top 20 rows\n",
      "\n"
     ]
    }
   ],
   "source": [
    "df.select(dayofmonth(df['Date'])).show()"
   ]
  },
  {
   "cell_type": "code",
   "execution_count": null,
   "id": "716f99ef-1178-4321-a231-d108d5ff6266",
   "metadata": {},
   "outputs": [],
   "source": [
    "df.select(dayofmonth(df['Date'])).show()"
   ]
  }
 ],
 "metadata": {
  "kernelspec": {
   "display_name": "Python 3 (ipykernel)",
   "language": "python",
   "name": "python3"
  },
  "language_info": {
   "codemirror_mode": {
    "name": "ipython",
    "version": 3
   },
   "file_extension": ".py",
   "mimetype": "text/x-python",
   "name": "python",
   "nbconvert_exporter": "python",
   "pygments_lexer": "ipython3",
   "version": "3.11.6"
  }
 },
 "nbformat": 4,
 "nbformat_minor": 5
}
